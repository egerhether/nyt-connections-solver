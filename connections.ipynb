{
 "cells": [
  {
   "cell_type": "markdown",
   "metadata": {},
   "source": [
    "# NYT Connections solver"
   ]
  },
  {
   "cell_type": "markdown",
   "metadata": {},
   "source": [
    "### utils functionality demo"
   ]
  },
  {
   "cell_type": "code",
   "execution_count": 1,
   "metadata": {},
   "outputs": [
    {
     "name": "stdout",
     "output_type": "stream",
     "text": [
      "['ACE', 'PALM', 'ROCK', 'CRUSH', 'POCKET', 'KNUCKLE', 'SCREW', 'TAP', 'JAZZ', 'LIFT', 'NAIL', 'MODERN', 'SWING', 'SWIPE', 'FAST', 'CURVE']\n",
      "[['ACE', 'PALM', 'ROCK', 'CRUSH'], ['POCKET', 'KNUCKLE', 'SCREW', 'TAP'], ['JAZZ', 'LIFT', 'NAIL', 'MODERN'], ['SWING', 'SWIPE', 'FAST', 'CURVE']]\n",
      "Is solution? False \n",
      "Number of matches: 5\n"
     ]
    }
   ],
   "source": [
    "from scripts.puzzle_utils import Puzzle\n",
    "\n",
    "puzzle = Puzzle()\n",
    "\n",
    "# retrieve random puzzle from the database\n",
    "random_words, id = puzzle.get_random_puzzle()\n",
    "print(random_words)\n",
    "\n",
    "# attempt to solve it (the example here is random ordering of words)\n",
    "attempt_sol = [random_words[:4], random_words[4:8], random_words[8:12], random_words[12:]]\n",
    "print(attempt_sol)\n",
    "\n",
    "# check the solution\n",
    "is_sol, num_corr = puzzle.check_solution(attempt_sol, id)\n",
    "print(f\"Is solution? {is_sol} \\nNumber of matches: {num_corr}\")"
   ]
  },
  {
   "cell_type": "code",
   "execution_count": 2,
   "metadata": {},
   "outputs": [
    {
     "name": "stderr",
     "output_type": "stream",
     "text": [
      "Creating GloVe lookup map: 400001it [00:10, 39399.79it/s]\n"
     ]
    }
   ],
   "source": [
    "from scripts.glove import GloVe\n",
    "\n",
    "glove = GloVe(\"/root/nyt-connections-solver/embeddings/glove.6B.300d.txt\")"
   ]
  },
  {
   "cell_type": "code",
   "execution_count": 3,
   "metadata": {},
   "outputs": [
    {
     "name": "stdout",
     "output_type": "stream",
     "text": [
      "[[ 0.32923   0.77858  -0.16965  ... -0.65369   0.2488   -0.27847 ]\n",
      " [-0.77595  -0.3146   -0.08368  ... -0.032641  0.33223  -0.74174 ]\n",
      " [-0.14924   0.021244 -0.3424   ...  0.6468   -0.37239  -0.085055]\n",
      " ...\n",
      " [ 0.24596   0.097402  0.64446  ...  0.11127  -0.65852  -0.39877 ]\n",
      " [-0.025955 -0.20685   0.58737  ... -0.78555  -0.38091  -0.44726 ]\n",
      " [-0.16446  -0.16825   0.2383   ... -0.070156  1.0578   -0.69029 ]]\n"
     ]
    }
   ],
   "source": [
    "import numpy as np\n",
    "print(glove.embed_puzzle_words(random_words))"
   ]
  },
  {
   "cell_type": "markdown",
   "metadata": {},
   "source": [
    "### k-means approach"
   ]
  },
  {
   "cell_type": "code",
   "execution_count": 43,
   "metadata": {},
   "outputs": [
    {
     "name": "stdout",
     "output_type": "stream",
     "text": [
      "['REACTION', 'STORE', 'COMIC', 'CURIOUS', 'STAMP', 'MAIL', 'POST', 'FUNNY', 'POSITION', 'RECORD', 'STATION', 'COIN', 'LETTER', 'OFF', 'WEIRD', 'JOB']\n",
      "[{'CURIOUS', 'POSITION', 'REACTION', 'LETTER'}, {'WEIRD', 'COIN', 'FUNNY', 'COMIC'}, {'OFF', 'RECORD', 'STATION', 'STORE'}, {'POST', 'MAIL', 'JOB', 'STAMP'}]\n",
      "Is solution? False \n",
      "Number of matches: 5\n"
     ]
    }
   ],
   "source": [
    "from scripts.kmeans import KMeansSolver\n",
    "\n",
    "# retrieve random puzzle from the database\n",
    "random_words, id = puzzle.get_random_puzzle()\n",
    "print(random_words)\n",
    "\n",
    "# attempt to solve it (fixed size kmeans)\n",
    "solver = KMeansSolver()\n",
    "embeddings = glove.embed_puzzle_words(random_words)\n",
    "solver.solve_puzzle(embeddings)\n",
    "attempt_sol = solver.build_solution(random_words)\n",
    "print(attempt_sol)\n",
    "\n",
    "# check the solution\n",
    "is_sol, num_corr = puzzle.check_solution(attempt_sol, id)\n",
    "print(f\"Is solution? {is_sol} \\nNumber of matches: {num_corr}\")"
   ]
  }
 ],
 "metadata": {
  "kernelspec": {
   "display_name": "connections",
   "language": "python",
   "name": "python3"
  },
  "language_info": {
   "codemirror_mode": {
    "name": "ipython",
    "version": 3
   },
   "file_extension": ".py",
   "mimetype": "text/x-python",
   "name": "python",
   "nbconvert_exporter": "python",
   "pygments_lexer": "ipython3",
   "version": "3.10.16"
  }
 },
 "nbformat": 4,
 "nbformat_minor": 2
}
