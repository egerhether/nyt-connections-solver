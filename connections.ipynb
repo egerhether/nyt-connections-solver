{
 "cells": [
  {
   "cell_type": "markdown",
   "metadata": {},
   "source": [
    "# NYT Connections solver"
   ]
  },
  {
   "cell_type": "markdown",
   "metadata": {},
   "source": [
    "### utils functionality demo"
   ]
  },
  {
   "cell_type": "code",
   "execution_count": 7,
   "metadata": {},
   "outputs": [
    {
     "name": "stdout",
     "output_type": "stream",
     "text": [
      "['CANAL', 'RADIUM', 'SLUG', 'TULIP', 'FIREFLY', 'SALAMANDER', 'WINDMILL', 'GLOWSTICK', 'RAINDROP', 'AURORA', 'WATERFALL', 'SKYDIVE', 'GATECRASH', 'EARTHWORM', 'CLOG', 'EEL']\n",
      "[['CANAL', 'RADIUM', 'SLUG', 'TULIP'], ['FIREFLY', 'SALAMANDER', 'WINDMILL', 'GLOWSTICK'], ['RAINDROP', 'AURORA', 'WATERFALL', 'SKYDIVE'], ['GATECRASH', 'EARTHWORM', 'CLOG', 'EEL']]\n",
      "Is solution? False \n",
      "Number of matches: 7\n"
     ]
    }
   ],
   "source": [
    "from scripts.puzzle_utils import Puzzle\n",
    "\n",
    "puzzle = Puzzle()\n",
    "\n",
    "# retrieve random puzzle from the database\n",
    "random_words, id = puzzle.get_random_puzzle()\n",
    "print(random_words)\n",
    "\n",
    "# attempt to solve it (the example here is random ordering of words)\n",
    "attempt_sol = [random_words[:4], random_words[4:8], random_words[8:12], random_words[12:]]\n",
    "print(attempt_sol)\n",
    "\n",
    "# check the solution\n",
    "is_sol, num_corr = puzzle.check_solution(attempt_sol, id)\n",
    "print(f\"Is solution? {is_sol} \\nNumber of matches: {num_corr}\")"
   ]
  },
  {
   "cell_type": "markdown",
   "metadata": {},
   "source": [
    "### k-means approach"
   ]
  },
  {
   "cell_type": "code",
   "execution_count": null,
   "metadata": {},
   "outputs": [],
   "source": []
  }
 ],
 "metadata": {
  "kernelspec": {
   "display_name": "connections",
   "language": "python",
   "name": "python3"
  },
  "language_info": {
   "codemirror_mode": {
    "name": "ipython",
    "version": 3
   },
   "file_extension": ".py",
   "mimetype": "text/x-python",
   "name": "python",
   "nbconvert_exporter": "python",
   "pygments_lexer": "ipython3",
   "version": "3.10.16"
  }
 },
 "nbformat": 4,
 "nbformat_minor": 2
}
