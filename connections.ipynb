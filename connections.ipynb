{
 "cells": [
  {
   "cell_type": "markdown",
   "metadata": {},
   "source": [
    "# NYT Connections solver"
   ]
  },
  {
   "cell_type": "markdown",
   "metadata": {},
   "source": [
    "### utils functionality demo"
   ]
  },
  {
   "cell_type": "code",
   "execution_count": 1,
   "metadata": {},
   "outputs": [
    {
     "name": "stdout",
     "output_type": "stream",
     "text": [
      "['SENTENCE', 'PIPE', 'PASSAGE', 'JUG', 'PHRASE', 'SANDS', 'NICK', 'RECORDER', 'CRACK', 'WHISTLE', 'WASTE', 'PUNCTURE', 'LETTER', 'WORD', 'HOLE', 'LEAK']\n",
      "[{'PUNCTURE', 'SENTENCE', 'PHRASE', 'LEAK'}, {'PASSAGE', 'NICK', 'LETTER', 'PIPE'}, {'JUG', 'SANDS', 'RECORDER', 'WORD'}, {'WHISTLE', 'WASTE', 'CRACK', 'HOLE'}]\n",
      "Is solution? False \n",
      "Number of matches: 6\n"
     ]
    }
   ],
   "source": [
    "from scripts.puzzle_utils import Puzzle\n",
    "from scripts.solver import Solver\n",
    "\n",
    "puzzle = Puzzle()\n",
    "random_solver = Solver()\n",
    "\n",
    "# retrieve random puzzle from the database\n",
    "random_words, id = puzzle.get_random_puzzle()\n",
    "print(random_words)\n",
    "\n",
    "# attempt to solve it (the example here is random ordering of words)\n",
    "random_solver.solve_puzzle(random_words)\n",
    "attempt_sol = random_solver.build_solution(random_words)\n",
    "print(attempt_sol)\n",
    "\n",
    "# check the solution\n",
    "is_sol, num_corr = puzzle.check_solution(attempt_sol, id)\n",
    "print(f\"Is solution? {is_sol} \\nNumber of matches: {num_corr}\")"
   ]
  },
  {
   "cell_type": "code",
   "execution_count": 2,
   "metadata": {},
   "outputs": [
    {
     "name": "stderr",
     "output_type": "stream",
     "text": [
      "Creating GloVe lookup map: 400000it [00:08, 46642.15it/s]\n"
     ]
    }
   ],
   "source": [
    "from scripts.glove import GloVe\n",
    "\n",
    "glove = GloVe(\"/home/hether/coding_projects/nyt-connections-solver/embeddings/glove.6B.300d.txt\")"
   ]
  },
  {
   "cell_type": "code",
   "execution_count": 3,
   "metadata": {},
   "outputs": [
    {
     "name": "stdout",
     "output_type": "stream",
     "text": [
      "[[-0.32636  -0.46357  -0.75916  ...  0.058154 -0.48012   0.053241]\n",
      " [ 0.17264   0.81223  -0.32949  ...  0.048746 -0.45891   0.39119 ]\n",
      " [ 0.018861 -0.71351  -0.15123  ... -0.14436  -0.47893  -0.003815]\n",
      " ...\n",
      " [-0.43036  -0.40622  -0.18279  ...  0.028737 -0.42117   0.27851 ]\n",
      " [-0.28281   0.18745  -0.59173  ... -0.36031  -0.037287 -0.17796 ]\n",
      " [ 0.33893   0.48199  -0.15186  ... -0.54716  -0.40129   0.68783 ]]\n"
     ]
    }
   ],
   "source": [
    "import numpy as np\n",
    "print(glove.embed_puzzle_words(random_words))"
   ]
  },
  {
   "cell_type": "markdown",
   "metadata": {},
   "source": [
    "### k-means approach"
   ]
  },
  {
   "cell_type": "code",
   "execution_count": 4,
   "metadata": {},
   "outputs": [
    {
     "name": "stdout",
     "output_type": "stream",
     "text": [
      "['PELICAN', 'BEACH', 'PUFFIN', 'SUNFLOWER', 'IRATE', 'BOOBY', 'SCHOOLBUS', 'BANANA', 'INCENSED', 'FURIOUS', 'HARDY', 'LIVID', 'CANARY', 'GULL', 'BEASTIE', 'LOST']\n",
      "[{'FURIOUS', 'LIVID', 'INCENSED', 'IRATE'}, {'BOOBY', 'GULL', 'CANARY', 'SUNFLOWER'}, {'PELICAN', 'PUFFIN', 'BEASTIE', 'SCHOOLBUS'}, {'HARDY', 'BEACH', 'BANANA', 'LOST'}]\n",
      "Is solution? False \n",
      "Number of matches: 11\n"
     ]
    }
   ],
   "source": [
    "from scripts.kmeans import KMeansSolver\n",
    "\n",
    "# retrieve random puzzle from the database\n",
    "random_words, id = puzzle.get_random_puzzle()\n",
    "print(random_words)\n",
    "\n",
    "# attempt to solve it (fixed size kmeans)\n",
    "kmeans_solver = KMeansSolver(glove)\n",
    "kmeans_solver.solve_puzzle(random_words)\n",
    "attempt_sol = kmeans_solver.build_solution(random_words)\n",
    "print(attempt_sol)\n",
    "\n",
    "# check the solution\n",
    "is_sol, num_corr = puzzle.check_solution(attempt_sol, id)\n",
    "print(f\"Is solution? {is_sol} \\nNumber of matches: {num_corr}\")"
   ]
  },
  {
   "cell_type": "markdown",
   "metadata": {},
   "source": [
    "### testing approaches"
   ]
  },
  {
   "cell_type": "code",
   "execution_count": 25,
   "metadata": {},
   "outputs": [
    {
     "name": "stderr",
     "output_type": "stream",
     "text": [
      "100%|██████████| 638/638 [00:00<00:00, 53328.40it/s]\n",
      "100%|██████████| 638/638 [00:00<00:00, 2086.84it/s]"
     ]
    },
    {
     "name": "stdout",
     "output_type": "stream",
     "text": [
      "Random Solver:\n",
      "Number of solutions: 0/638\n",
      "Average number of correct words: 5.650470219435737/16\n",
      "K-means Solver:\n",
      "Number of solutions: 8/638\n",
      "Average number of correct words: 7.89068100358423/16\n"
     ]
    },
    {
     "name": "stderr",
     "output_type": "stream",
     "text": [
      "\n"
     ]
    }
   ],
   "source": [
    "from scripts.tester import MethodTester\n",
    "\n",
    "tester = MethodTester()\n",
    "results_random = tester.test_solver(random_solver)\n",
    "results_kmeans = tester.test_solver(kmeans_solver)\n",
    "\n",
    "print(f\"Random Solver:\\nNumber of solutions: {np.sum(results_random['is_sol'])}/638\\nAverage number of correct words: {np.mean(results_random['num_corr'])}/16\")\n",
    "print(f\"K-means Solver:\\nNumber of solutions: {np.sum(results_kmeans['is_sol'])}/638\\nAverage number of correct words: {np.mean(results_kmeans['num_corr'])}/16\")"
   ]
  }
 ],
 "metadata": {
  "kernelspec": {
   "display_name": "connections",
   "language": "python",
   "name": "python3"
  },
  "language_info": {
   "codemirror_mode": {
    "name": "ipython",
    "version": 3
   },
   "file_extension": ".py",
   "mimetype": "text/x-python",
   "name": "python",
   "nbconvert_exporter": "python",
   "pygments_lexer": "ipython3",
   "version": "3.10.16"
  }
 },
 "nbformat": 4,
 "nbformat_minor": 2
}
