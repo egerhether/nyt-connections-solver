{
 "cells": [
  {
   "cell_type": "markdown",
   "metadata": {},
   "source": [
    "# NYT Connections solver"
   ]
  },
  {
   "cell_type": "markdown",
   "metadata": {},
   "source": [
    "### utils functionality demo"
   ]
  },
  {
   "cell_type": "code",
   "execution_count": 2,
   "metadata": {},
   "outputs": [
    {
     "name": "stdout",
     "output_type": "stream",
     "text": [
      "['JERK', 'SAW', 'WRENCH', 'YANK', 'COPY', 'FILE', 'WILLY', 'SAVE', 'TUG', 'BEETHOVEN', 'CHARLOTTE', 'FIND', 'LEVEL', 'BABE', 'HAMMER', 'PRINT']\n",
      "[{'FIND', 'YANK', 'SAVE', 'PRINT'}, {'SAW', 'BEETHOVEN', 'WILLY', 'HAMMER'}, {'FILE', 'COPY', 'WRENCH', 'BABE'}, {'TUG', 'CHARLOTTE', 'LEVEL', 'JERK'}]\n",
      "Is solution? False \n",
      "Number of matches: 5\n"
     ]
    }
   ],
   "source": [
    "from scripts.puzzle_utils import Puzzle\n",
    "from scripts.solver import Solver\n",
    "\n",
    "puzzle = Puzzle()\n",
    "random_solver = Solver()\n",
    "\n",
    "# retrieve random puzzle from the database\n",
    "random_words, id = puzzle.get_random_puzzle()\n",
    "print(random_words)\n",
    "\n",
    "# attempt to solve it (the example here is random ordering of words)\n",
    "random_solver.solve_puzzle(random_words)\n",
    "attempt_sol = random_solver.build_solution(random_words)\n",
    "print(attempt_sol)\n",
    "\n",
    "# check the solution\n",
    "is_sol, num_corr = puzzle.check_solution(attempt_sol, id)\n",
    "print(f\"Is solution? {is_sol} \\nNumber of matches: {num_corr}\")"
   ]
  },
  {
   "cell_type": "code",
   "execution_count": 3,
   "metadata": {},
   "outputs": [
    {
     "name": "stderr",
     "output_type": "stream",
     "text": [
      "Creating GloVe lookup map: 400000it [00:08, 47668.87it/s]\n"
     ]
    }
   ],
   "source": [
    "from scripts.glove import GloVe\n",
    "\n",
    "glove = GloVe(\"embeddings/glove.6B.300d.txt\")"
   ]
  },
  {
   "cell_type": "code",
   "execution_count": 4,
   "metadata": {},
   "outputs": [
    {
     "name": "stdout",
     "output_type": "stream",
     "text": [
      "[[-0.019542  0.070949 -0.059923 ... -0.14317   0.39539   0.67533 ]\n",
      " [ 0.11598   0.37664  -0.12256  ... -0.012162  0.31691   0.016065]\n",
      " [ 0.52188  -0.10094   0.30108  ...  0.5893   -0.49869   0.66253 ]\n",
      " ...\n",
      " [-0.75336  -0.017923 -0.35947  ... -0.2309    0.81162   0.69205 ]\n",
      " [ 0.24715   0.19081  -0.22681  ...  0.24316  -0.086038  0.63675 ]\n",
      " [-0.45785   0.2069    0.091824 ...  0.51018   0.87241  -0.14735 ]]\n"
     ]
    }
   ],
   "source": [
    "import numpy as np\n",
    "print(glove.embed_puzzle_words(random_words))"
   ]
  },
  {
   "cell_type": "markdown",
   "metadata": {},
   "source": [
    "### k-means approach"
   ]
  },
  {
   "cell_type": "code",
   "execution_count": 5,
   "metadata": {},
   "outputs": [
    {
     "name": "stdout",
     "output_type": "stream",
     "text": [
      "['SOLO', 'REAL', 'TANG', 'YUAN', 'SOL', 'POUND', 'TWICE', 'SOLD', 'BUTTER', 'FLUKE', 'ONCE', 'WORLD', 'GOING', 'SOLE', 'MULLET', 'DIVA']\n",
      "[{'MULLET', 'FLUKE', 'SOL', 'DIVA'}, {'REAL', 'ONCE', 'GOING', 'WORLD'}, {'TWICE', 'BUTTER', 'POUND', 'SOLD'}, {'SOLO', 'YUAN', 'TANG', 'SOLE'}]\n",
      "Is solution? False \n",
      "Number of matches: 6\n"
     ]
    }
   ],
   "source": [
    "from scripts.kmeans import KMeansSolver\n",
    "\n",
    "# retrieve random puzzle from the database\n",
    "random_words, id = puzzle.get_random_puzzle()\n",
    "print(random_words)\n",
    "\n",
    "# attempt to solve it (fixed size kmeans)\n",
    "kmeans_solver = KMeansSolver(glove)\n",
    "kmeans_solver.solve_puzzle(random_words)\n",
    "attempt_sol = kmeans_solver.build_solution(random_words)\n",
    "print(attempt_sol)\n",
    "\n",
    "# check the solution\n",
    "is_sol, num_corr = puzzle.check_solution(attempt_sol, id)\n",
    "print(f\"Is solution? {is_sol} \\nNumber of matches: {num_corr}\")"
   ]
  },
  {
   "cell_type": "markdown",
   "metadata": {},
   "source": [
    "### neural approach"
   ]
  },
  {
   "cell_type": "code",
   "execution_count": 6,
   "metadata": {},
   "outputs": [],
   "source": [
    "from scripts.neural.dataset import ConnectionsDataset\n",
    "\n",
    "dataset = ConnectionsDataset(glove, puzzle)"
   ]
  },
  {
   "cell_type": "code",
   "execution_count": null,
   "metadata": {},
   "outputs": [
    {
     "name": "stderr",
     "output_type": "stream",
     "text": [
      "Training evaluator network: 100%|██████████| 10/10 [00:00<00:00, 215.89it/s]\n"
     ]
    },
    {
     "ename": "TypeError",
     "evalue": "'Predictor' object is not callable",
     "output_type": "error",
     "traceback": [
      "\u001b[0;31m---------------------------------------------------------------------------\u001b[0m",
      "\u001b[0;31mTypeError\u001b[0m                                 Traceback (most recent call last)",
      "Cell \u001b[0;32mIn[7], line 7\u001b[0m\n\u001b[1;32m      5\u001b[0m neural_solver \u001b[38;5;241m=\u001b[39m NeuralSolver(puzzle, evaluator, dataset, \u001b[38;5;241m10\u001b[39m, glove)\n\u001b[1;32m      6\u001b[0m neural_solver\u001b[38;5;241m.\u001b[39mtrain_evaluator()\n\u001b[0;32m----> 7\u001b[0m \u001b[43mneural_solver\u001b[49m\u001b[38;5;241;43m.\u001b[39;49m\u001b[43msolve_puzzle\u001b[49m\u001b[43m(\u001b[49m\u001b[43mrandom_words\u001b[49m\u001b[43m,\u001b[49m\u001b[43m \u001b[49m\u001b[38;5;28;43mid\u001b[39;49m\u001b[43m)\u001b[49m\n",
      "File \u001b[0;32m~/coding_projects/nyt-connections-solver/scripts/neural/neural_solver.py:45\u001b[0m, in \u001b[0;36mNeuralSolver.solve_puzzle\u001b[0;34m(self, words, puzzle_id)\u001b[0m\n\u001b[1;32m     41\u001b[0m current_group_id \u001b[38;5;241m=\u001b[39m \u001b[38;5;241m0\u001b[39m\n\u001b[1;32m     43\u001b[0m \u001b[38;5;28;01mwhile\u001b[39;00m lives \u001b[38;5;241m!=\u001b[39m \u001b[38;5;241m0\u001b[39m:\n\u001b[0;32m---> 45\u001b[0m     group_attmpt \u001b[38;5;241m=\u001b[39m \u001b[38;5;28;43mself\u001b[39;49m\u001b[38;5;241;43m.\u001b[39;49m\u001b[43mpredictor\u001b[49m\u001b[43m(\u001b[49m\u001b[43mwords\u001b[49m\u001b[43m)\u001b[49m \u001b[38;5;66;03m# TODO: this has to take AND output list of strings\u001b[39;00m\n\u001b[1;32m     46\u001b[0m     embedded_group \u001b[38;5;241m=\u001b[39m \u001b[38;5;28mself\u001b[39m\u001b[38;5;241m.\u001b[39membed_words(group_attmpt)\n\u001b[1;32m     47\u001b[0m     is_group \u001b[38;5;241m=\u001b[39m \u001b[38;5;28mself\u001b[39m\u001b[38;5;241m.\u001b[39mevaluator(embedded_group)\n",
      "\u001b[0;31mTypeError\u001b[0m: 'Predictor' object is not callable"
     ]
    }
   ],
   "source": [
    "from scripts.neural.evaluator import NeuralEvaluator\n",
    "from scripts.neural.neural_solver import NeuralSolver\n",
    "\n",
    "evaluator = NeuralEvaluator(1200)\n",
    "neural_solver = NeuralSolver(puzzle, evaluator, dataset, 10, glove)\n",
    "neural_solver.train_evaluator()\n",
    "neural_solver.solve_puzzle(random_words, id)"
   ]
  },
  {
   "cell_type": "markdown",
   "metadata": {},
   "source": [
    "### testing approaches"
   ]
  },
  {
   "cell_type": "code",
   "execution_count": 9,
   "metadata": {},
   "outputs": [
    {
     "name": "stderr",
     "output_type": "stream",
     "text": [
      "100%|██████████| 645/645 [00:00<00:00, 79866.74it/s]\n",
      "100%|██████████| 645/645 [00:00<00:00, 1754.27it/s]"
     ]
    },
    {
     "name": "stdout",
     "output_type": "stream",
     "text": [
      "Random Solver:\n",
      "Number of solutions: 0/645\n",
      "Average number of correct words: 5.607751937984496/16\n",
      "K-means Solver:\n",
      "Number of solutions: 7/642\n",
      "Average number of correct words: 7.61214953271028/16\n"
     ]
    },
    {
     "name": "stderr",
     "output_type": "stream",
     "text": [
      "\n"
     ]
    }
   ],
   "source": [
    "from scripts.tester import MethodTester\n",
    "\n",
    "tester = MethodTester()\n",
    "results_random = tester.test_solver(random_solver)\n",
    "results_kmeans = tester.test_solver(kmeans_solver)\n",
    "\n",
    "print(f\"Random Solver:\\nNumber of solutions: {np.sum(results_random['is_sol'])}/{len(results_random['is_sol'])}\\nAverage number of correct words: {np.mean(results_random['num_corr'])}/16\")\n",
    "# currently not all puzzles are solved with kmeans to do some phrases not having an embeddings\n",
    "# this mostly happens for complex phrases like 'jack in the box'\n",
    "# work in progress on that one\n",
    "print(f\"K-means Solver:\\nNumber of solutions: {np.sum(results_kmeans['is_sol'])}/{len(results_kmeans['is_sol'])}\\nAverage number of correct words: {np.mean(results_kmeans['num_corr'])}/16\")"
   ]
  }
 ],
 "metadata": {
  "kernelspec": {
   "display_name": "connections",
   "language": "python",
   "name": "python3"
  },
  "language_info": {
   "codemirror_mode": {
    "name": "ipython",
    "version": 3
   },
   "file_extension": ".py",
   "mimetype": "text/x-python",
   "name": "python",
   "nbconvert_exporter": "python",
   "pygments_lexer": "ipython3",
   "version": "3.10.16"
  }
 },
 "nbformat": 4,
 "nbformat_minor": 2
}
