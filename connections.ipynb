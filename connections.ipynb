{
 "cells": [
  {
   "cell_type": "markdown",
   "metadata": {},
   "source": [
    "# NYT Connections solver"
   ]
  },
  {
   "cell_type": "markdown",
   "metadata": {},
   "source": [
    "### utils functionality demo"
   ]
  },
  {
   "cell_type": "code",
   "execution_count": 1,
   "metadata": {},
   "outputs": [
    {
     "name": "stdout",
     "output_type": "stream",
     "text": [
      "['MASCARA', 'STRAP', 'SHIELD', 'FAUCET', 'CANDIDATE', 'HAND', 'TIARA', 'DIAL', 'CROWN', 'HIDE', 'MASK', 'NOSE', 'LASSO', 'COVER', 'BLOCK', 'SWORD']\n",
      "[{'HAND', 'FAUCET', 'NOSE', 'CROWN'}, {'MASCARA', 'SHIELD', 'LASSO', 'STRAP'}, {'HIDE', 'SWORD', 'MASK', 'CANDIDATE'}, {'BLOCK', 'COVER', 'TIARA', 'DIAL'}]\n",
      "Is solution? False \n",
      "Number of matches: 6\n"
     ]
    }
   ],
   "source": [
    "from scripts.puzzle_utils import Puzzle\n",
    "from scripts.solver import Solver\n",
    "\n",
    "puzzle = Puzzle()\n",
    "solver = Solver()\n",
    "\n",
    "# retrieve random puzzle from the database\n",
    "random_words, id = puzzle.get_random_puzzle()\n",
    "print(random_words)\n",
    "\n",
    "# attempt to solve it (the example here is random ordering of words)\n",
    "solver.solve_puzzle()\n",
    "attempt_sol = solver.build_solution(random_words)\n",
    "print(attempt_sol)\n",
    "\n",
    "# check the solution\n",
    "is_sol, num_corr = puzzle.check_solution(attempt_sol, id)\n",
    "print(f\"Is solution? {is_sol} \\nNumber of matches: {num_corr}\")"
   ]
  },
  {
   "cell_type": "code",
   "execution_count": 2,
   "metadata": {},
   "outputs": [
    {
     "name": "stderr",
     "output_type": "stream",
     "text": [
      "Creating GloVe lookup map: 400000it [00:08, 46065.18it/s]\n"
     ]
    }
   ],
   "source": [
    "from scripts.glove import GloVe\n",
    "\n",
    "glove = GloVe(\"/home/hether/coding_projects/nyt-connections-solver/embeddings/glove.6B.300d.txt\")"
   ]
  },
  {
   "cell_type": "code",
   "execution_count": 3,
   "metadata": {},
   "outputs": [
    {
     "name": "stdout",
     "output_type": "stream",
     "text": [
      "[[-0.041578   0.24951   -0.30658   ...  0.17991    0.32308    0.86192  ]\n",
      " [ 0.018342  -0.21922    0.0095253 ...  0.29549    0.17482   -0.38239  ]\n",
      " [ 0.049525   0.19761   -0.16082   ...  0.10882    0.26805    0.065815 ]\n",
      " ...\n",
      " [-0.12356   -0.022431  -0.32227   ...  0.45687   -0.098973  -0.068441 ]\n",
      " [-0.40328   -0.32813   -0.57228   ... -0.54691   -0.14703    0.053262 ]\n",
      " [ 0.07667   -0.11689    0.39563   ...  0.47872   -0.12191   -0.11785  ]]\n"
     ]
    }
   ],
   "source": [
    "import numpy as np\n",
    "print(glove.embed_puzzle_words(random_words))"
   ]
  },
  {
   "cell_type": "markdown",
   "metadata": {},
   "source": [
    "### k-means approach"
   ]
  },
  {
   "cell_type": "code",
   "execution_count": 4,
   "metadata": {},
   "outputs": [
    {
     "name": "stdout",
     "output_type": "stream",
     "text": [
      "['POLAND', 'PIE', 'JORDAN', 'BIRD', 'PASTY', 'RAPPORT', 'RAGOUT', 'TURKEY', 'JAPAN', 'PARFAIT', 'CURRY', 'JAMES', 'TUNISIA', 'BOUQUET', 'TURNOVER', 'TART']\n",
      "[{'PARFAIT', 'PASTY', 'RAGOUT', 'BOUQUET'}, {'TART', 'RAPPORT', 'TURNOVER', 'PIE'}, {'JAPAN', 'TUNISIA', 'TURKEY', 'POLAND'}, {'BIRD', 'JORDAN', 'CURRY', 'JAMES'}]\n",
      "Is solution? False \n",
      "Number of matches: 10\n"
     ]
    }
   ],
   "source": [
    "from scripts.kmeans import KMeansSolver\n",
    "\n",
    "# retrieve random puzzle from the database\n",
    "random_words, id = puzzle.get_random_puzzle()\n",
    "print(random_words)\n",
    "\n",
    "# attempt to solve it (fixed size kmeans)\n",
    "solver = KMeansSolver()\n",
    "embeddings = glove.embed_puzzle_words(random_words)\n",
    "solver.solve_puzzle(embeddings)\n",
    "attempt_sol = solver.build_solution(random_words)\n",
    "print(attempt_sol)\n",
    "\n",
    "# check the solution\n",
    "is_sol, num_corr = puzzle.check_solution(attempt_sol, id)\n",
    "print(f\"Is solution? {is_sol} \\nNumber of matches: {num_corr}\")"
   ]
  },
  {
   "cell_type": "markdown",
   "metadata": {},
   "source": [
    "### testing approaches"
   ]
  },
  {
   "cell_type": "code",
   "execution_count": null,
   "metadata": {},
   "outputs": [],
   "source": [
    "from scripts.tester import MethodTester"
   ]
  }
 ],
 "metadata": {
  "kernelspec": {
   "display_name": "connections",
   "language": "python",
   "name": "python3"
  },
  "language_info": {
   "codemirror_mode": {
    "name": "ipython",
    "version": 3
   },
   "file_extension": ".py",
   "mimetype": "text/x-python",
   "name": "python",
   "nbconvert_exporter": "python",
   "pygments_lexer": "ipython3",
   "version": "3.10.16"
  }
 },
 "nbformat": 4,
 "nbformat_minor": 2
}
