{
 "cells": [
  {
   "cell_type": "markdown",
   "metadata": {},
   "source": [
    "# NYT Connections solver"
   ]
  },
  {
   "cell_type": "markdown",
   "metadata": {},
   "source": [
    "### utils functionality demo"
   ]
  },
  {
   "cell_type": "code",
   "execution_count": 1,
   "metadata": {},
   "outputs": [
    {
     "name": "stdout",
     "output_type": "stream",
     "text": [
      "['NOSE', 'HEAD', 'CRAYON', 'BULB', 'HONEYCOMB', 'SEAL', 'STALK', 'CABIN', 'ROB', 'WING', 'ENGINE', 'FLEECE', 'CANDLE', 'EAR', 'HOSE', 'STIFF']\n",
      "[{'CANDLE', 'SEAL', 'NOSE', 'WING'}, {'FLEECE', 'EAR', 'HOSE', 'STIFF'}, {'HEAD', 'ENGINE', 'STALK', 'HONEYCOMB'}, {'CRAYON', 'CABIN', 'BULB', 'ROB'}]\n",
      "Is solution? False \n",
      "Number of matches: 7\n"
     ]
    }
   ],
   "source": [
    "from scripts.puzzle_utils import Puzzle\n",
    "from scripts.solver import Solver\n",
    "\n",
    "puzzle = Puzzle()\n",
    "random_solver = Solver()\n",
    "\n",
    "# retrieve random puzzle from the database\n",
    "random_words, id = puzzle.get_random_puzzle()\n",
    "print(random_words)\n",
    "\n",
    "# attempt to solve it (the example here is random ordering of words)\n",
    "random_solver.solve_puzzle(random_words)\n",
    "attempt_sol = random_solver.build_solution(random_words)\n",
    "print(attempt_sol)\n",
    "\n",
    "# check the solution\n",
    "is_sol, num_corr = puzzle.check_solution(attempt_sol, id)\n",
    "print(f\"Is solution? {is_sol} \\nNumber of matches: {num_corr}\")"
   ]
  },
  {
   "cell_type": "code",
   "execution_count": 2,
   "metadata": {},
   "outputs": [
    {
     "name": "stderr",
     "output_type": "stream",
     "text": [
      "Creating GloVe lookup map: 400000it [00:08, 47823.02it/s]\n"
     ]
    }
   ],
   "source": [
    "from scripts.glove import GloVe\n",
    "\n",
    "glove = GloVe(\"embeddings/glove.6B.300d.txt\")"
   ]
  },
  {
   "cell_type": "code",
   "execution_count": 3,
   "metadata": {},
   "outputs": [
    {
     "name": "stdout",
     "output_type": "stream",
     "text": [
      "[[-0.18221   0.23007  -0.35024  ...  0.020427  0.17435   0.10724 ]\n",
      " [-0.27105   0.10095  -0.033651 ...  0.46617  -0.12275   0.31105 ]\n",
      " [-0.057725  0.27479   0.17358  ...  0.15228   0.21541   0.047977]\n",
      " ...\n",
      " [-0.43982  -0.20805  -0.80559  ...  0.53964   0.21984   0.098529]\n",
      " [ 0.39486  -0.41406   0.062148 ... -0.14045   0.3879    0.60855 ]\n",
      " [-0.38626  -0.36741  -0.32377  ...  0.45258   0.19781  -0.14027 ]]\n"
     ]
    }
   ],
   "source": [
    "import numpy as np\n",
    "print(glove.embed_puzzle_words(random_words))"
   ]
  },
  {
   "cell_type": "markdown",
   "metadata": {},
   "source": [
    "### k-means approach"
   ]
  },
  {
   "cell_type": "code",
   "execution_count": 4,
   "metadata": {},
   "outputs": [
    {
     "name": "stdout",
     "output_type": "stream",
     "text": [
      "['GIFT', 'AMAZON', 'YELLOW', 'APPLE', 'LIME', 'RHINE', 'INTUIT', 'INSTINCT', 'ORACLE', 'SURFACE', 'NOSE', 'FLAIR', 'FRONT', 'BRIM', 'FACE', 'OUTSIDE']\n",
      "[{'BRIM', 'RHINE', 'NOSE', 'SURFACE'}, {'YELLOW', 'OUTSIDE', 'FRONT', 'FACE'}, {'ORACLE', 'AMAZON', 'APPLE', 'INTUIT'}, {'INSTINCT', 'LIME', 'GIFT', 'FLAIR'}]\n",
      "Is solution? False \n",
      "Number of matches: 10\n"
     ]
    }
   ],
   "source": [
    "from scripts.kmeans import KMeansSolver\n",
    "\n",
    "# retrieve random puzzle from the database\n",
    "random_words, id = puzzle.get_random_puzzle()\n",
    "print(random_words)\n",
    "\n",
    "# attempt to solve it (fixed size kmeans)\n",
    "kmeans_solver = KMeansSolver(glove)\n",
    "kmeans_solver.solve_puzzle(random_words)\n",
    "attempt_sol = kmeans_solver.build_solution(random_words)\n",
    "print(attempt_sol)\n",
    "\n",
    "# check the solution\n",
    "is_sol, num_corr = puzzle.check_solution(attempt_sol, id)\n",
    "print(f\"Is solution? {is_sol} \\nNumber of matches: {num_corr}\")"
   ]
  },
  {
   "cell_type": "markdown",
   "metadata": {},
   "source": [
    "### neural approach"
   ]
  },
  {
   "cell_type": "code",
   "execution_count": 6,
   "metadata": {},
   "outputs": [
    {
     "name": "stderr",
     "output_type": "stream",
     "text": [
      "creatiing csv: 100%|██████████| 500/500 [00:00<00:00, 2166.04it/s]\n"
     ]
    }
   ],
   "source": [
    "from scripts.neural.dataset import ConnectionsDataset\n",
    "\n",
    "dataset = ConnectionsDataset(glove, puzzle)"
   ]
  },
  {
   "cell_type": "markdown",
   "metadata": {},
   "source": [
    "### testing approaches"
   ]
  },
  {
   "cell_type": "code",
   "execution_count": 15,
   "metadata": {},
   "outputs": [
    {
     "name": "stderr",
     "output_type": "stream",
     "text": [
      "100%|██████████| 645/645 [00:00<00:00, 72236.42it/s]\n",
      "100%|██████████| 645/645 [00:00<00:00, 1810.11it/s]"
     ]
    },
    {
     "name": "stdout",
     "output_type": "stream",
     "text": [
      "Random Solver:\n",
      "Number of solutions: 0/645\n",
      "Average number of correct words: 5.6682170542635655/16\n",
      "K-means Solver:\n",
      "Number of solutions: 9/642\n",
      "Average number of correct words: 7.750778816199377/16\n"
     ]
    },
    {
     "name": "stderr",
     "output_type": "stream",
     "text": [
      "\n"
     ]
    }
   ],
   "source": [
    "from scripts.tester import MethodTester\n",
    "\n",
    "tester = MethodTester()\n",
    "results_random = tester.test_solver(random_solver)\n",
    "results_kmeans = tester.test_solver(kmeans_solver)\n",
    "\n",
    "print(f\"Random Solver:\\nNumber of solutions: {np.sum(results_random['is_sol'])}/{len(results_random['is_sol'])}\\nAverage number of correct words: {np.mean(results_random['num_corr'])}/16\")\n",
    "# currently not all puzzles are solved with kmeans to do some phrases not having an embeddings\n",
    "# this mostly happens for complex phrases like 'jack in the box'\n",
    "# work in progress on that one\n",
    "print(f\"K-means Solver:\\nNumber of solutions: {np.sum(results_kmeans['is_sol'])}/{len(results_kmeans['is_sol'])}\\nAverage number of correct words: {np.mean(results_kmeans['num_corr'])}/16\")"
   ]
  }
 ],
 "metadata": {
  "kernelspec": {
   "display_name": "connections",
   "language": "python",
   "name": "python3"
  },
  "language_info": {
   "codemirror_mode": {
    "name": "ipython",
    "version": 3
   },
   "file_extension": ".py",
   "mimetype": "text/x-python",
   "name": "python",
   "nbconvert_exporter": "python",
   "pygments_lexer": "ipython3",
   "version": "3.10.16"
  }
 },
 "nbformat": 4,
 "nbformat_minor": 2
}
